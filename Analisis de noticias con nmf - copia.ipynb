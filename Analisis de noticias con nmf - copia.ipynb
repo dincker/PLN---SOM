{
 "cells": [
  {
   "cell_type": "code",
   "execution_count": 1,
   "metadata": {},
   "outputs": [],
   "source": [
    "import pandas as pd\n"
   ]
  },
  {
   "cell_type": "markdown",
   "metadata": {},
   "source": [
    "Abrir dataset con las noticias a trabajar"
   ]
  },
  {
   "cell_type": "code",
   "execution_count": 2,
   "metadata": {},
   "outputs": [],
   "source": [
    "npr = pd.read_csv(\"C:\\\\Users\\\\fabia\\\\Desktop\\\\PLN\\\\NewsF.csv\", sep=';')"
   ]
  },
  {
   "cell_type": "code",
   "execution_count": 3,
   "metadata": {},
   "outputs": [
    {
     "data": {
      "text/html": [
       "<div>\n",
       "<style scoped>\n",
       "    .dataframe tbody tr th:only-of-type {\n",
       "        vertical-align: middle;\n",
       "    }\n",
       "\n",
       "    .dataframe tbody tr th {\n",
       "        vertical-align: top;\n",
       "    }\n",
       "\n",
       "    .dataframe thead th {\n",
       "        text-align: right;\n",
       "    }\n",
       "</style>\n",
       "<table border=\"1\" class=\"dataframe\">\n",
       "  <thead>\n",
       "    <tr style=\"text-align: right;\">\n",
       "      <th></th>\n",
       "      <th>Unnamed: 0</th>\n",
       "      <th>Type</th>\n",
       "      <th>News</th>\n",
       "    </tr>\n",
       "  </thead>\n",
       "  <tbody>\n",
       "    <tr>\n",
       "      <th>0</th>\n",
       "      <td>0</td>\n",
       "      <td>Business</td>\n",
       "      <td>Ad sales boost Time Warner profit\\n\\nQuarterly...</td>\n",
       "    </tr>\n",
       "    <tr>\n",
       "      <th>1</th>\n",
       "      <td>1</td>\n",
       "      <td>Business</td>\n",
       "      <td>Dollar gains on Greenspan speech\\n\\nThe dollar...</td>\n",
       "    </tr>\n",
       "    <tr>\n",
       "      <th>2</th>\n",
       "      <td>2</td>\n",
       "      <td>Business</td>\n",
       "      <td>Yukos unit buyer faces loan claim\\n\\nThe owner...</td>\n",
       "    </tr>\n",
       "    <tr>\n",
       "      <th>3</th>\n",
       "      <td>3</td>\n",
       "      <td>Business</td>\n",
       "      <td>High fuel prices hit BA's profits\\n\\nBritish A...</td>\n",
       "    </tr>\n",
       "    <tr>\n",
       "      <th>4</th>\n",
       "      <td>4</td>\n",
       "      <td>Business</td>\n",
       "      <td>Pernod takeover talk lifts Domecq\\n\\nShares in...</td>\n",
       "    </tr>\n",
       "  </tbody>\n",
       "</table>\n",
       "</div>"
      ],
      "text/plain": [
       "   Unnamed: 0      Type                                               News\n",
       "0           0  Business  Ad sales boost Time Warner profit\\n\\nQuarterly...\n",
       "1           1  Business  Dollar gains on Greenspan speech\\n\\nThe dollar...\n",
       "2           2  Business  Yukos unit buyer faces loan claim\\n\\nThe owner...\n",
       "3           3  Business  High fuel prices hit BA's profits\\n\\nBritish A...\n",
       "4           4  Business  Pernod takeover talk lifts Domecq\\n\\nShares in..."
      ]
     },
     "execution_count": 3,
     "metadata": {},
     "output_type": "execute_result"
    }
   ],
   "source": [
    "npr.head()"
   ]
  },
  {
   "cell_type": "markdown",
   "metadata": {},
   "source": [
    "# Aplicacion latenete de Thursay (LDA)"
   ]
  },
  {
   "cell_type": "markdown",
   "metadata": {},
   "source": [
    "Preprocesamiento"
   ]
  },
  {
   "cell_type": "code",
   "execution_count": 4,
   "metadata": {},
   "outputs": [],
   "source": [
    "#Vectorizacion"
   ]
  },
  {
   "cell_type": "code",
   "execution_count": 5,
   "metadata": {},
   "outputs": [],
   "source": [
    "from sklearn.feature_extraction.text import CountVectorizer"
   ]
  },
  {
   "cell_type": "code",
   "execution_count": 6,
   "metadata": {},
   "outputs": [],
   "source": [
    "cv = CountVectorizer(max_df=0.9,min_df=2,stop_words='english')\n",
    "#max_df: Elimina los terminos que se repiten en gran parte de los documentos y se indica la probabilidad de frecuencia de los terminos a eliminar\n",
    "#min_df: Elimina los terminos que aparecen con muy poca frecuencia en los documentos y se indica la frecuenci minima con un numero de apariciones\n",
    "#stop_words: Elimina las palabras innecesarias como los conectores, espacios, etc. Se indica el idioma."
   ]
  },
  {
   "cell_type": "code",
   "execution_count": 7,
   "metadata": {},
   "outputs": [],
   "source": [
    "#Creacion de matris con las modificaciones o transformaciones correspondientes"
   ]
  },
  {
   "cell_type": "code",
   "execution_count": 8,
   "metadata": {},
   "outputs": [],
   "source": [
    "dtm = cv.fit_transform(npr['News'])"
   ]
  },
  {
   "cell_type": "code",
   "execution_count": 9,
   "metadata": {},
   "outputs": [
    {
     "data": {
      "text/plain": [
       "<2225x17473 sparse matrix of type '<class 'numpy.int64'>'\n",
       "\twith 310493 stored elements in Compressed Sparse Row format>"
      ]
     },
     "execution_count": 9,
     "metadata": {},
     "output_type": "execute_result"
    }
   ],
   "source": [
    "dtm"
   ]
  },
  {
   "cell_type": "markdown",
   "metadata": {},
   "source": [
    "Realizar latente"
   ]
  },
  {
   "cell_type": "code",
   "execution_count": 10,
   "metadata": {},
   "outputs": [],
   "source": [
    "from sklearn.decomposition import LatentDirichletAllocation"
   ]
  },
  {
   "cell_type": "code",
   "execution_count": 11,
   "metadata": {},
   "outputs": [],
   "source": [
    "LDA = LatentDirichletAllocation(n_components=5,random_state=42)\n",
    "#n_components: Numero de temas en el documento\n",
    "#random_state: "
   ]
  },
  {
   "cell_type": "markdown",
   "metadata": {},
   "source": [
    "Ajustar LDA respecto a la matriz de giro de documentos"
   ]
  },
  {
   "cell_type": "code",
   "execution_count": 19,
   "metadata": {},
   "outputs": [
    {
     "data": {
      "text/plain": [
       "LatentDirichletAllocation(batch_size=128, doc_topic_prior=None,\n",
       "             evaluate_every=-1, learning_decay=0.7,\n",
       "             learning_method='batch', learning_offset=10.0,\n",
       "             max_doc_update_iter=100, max_iter=10, mean_change_tol=0.001,\n",
       "             n_components=5, n_jobs=None, n_topics=None, perp_tol=0.1,\n",
       "             random_state=42, topic_word_prior=None,\n",
       "             total_samples=1000000.0, verbose=0)"
      ]
     },
     "execution_count": 19,
     "metadata": {},
     "output_type": "execute_result"
    }
   ],
   "source": [
    "LDA.fit(dtm)"
   ]
  },
  {
   "cell_type": "markdown",
   "metadata": {},
   "source": [
    "Captr el vocabulario de palabras"
   ]
  },
  {
   "cell_type": "code",
   "execution_count": 20,
   "metadata": {},
   "outputs": [
    {
     "data": {
      "text/plain": [
       "17473"
      ]
     },
     "execution_count": 20,
     "metadata": {},
     "output_type": "execute_result"
    }
   ],
   "source": [
    "len(cv.get_feature_names())"
   ]
  },
  {
   "cell_type": "code",
   "execution_count": 21,
   "metadata": {},
   "outputs": [
    {
     "data": {
      "text/plain": [
       "list"
      ]
     },
     "execution_count": 21,
     "metadata": {},
     "output_type": "execute_result"
    }
   ],
   "source": [
    "#Lista de palabras de todos los documentos\n",
    "type(cv.get_feature_names())"
   ]
  },
  {
   "cell_type": "code",
   "execution_count": 22,
   "metadata": {},
   "outputs": [
    {
     "data": {
      "text/plain": [
       "'mathieu'"
      ]
     },
     "execution_count": 22,
     "metadata": {},
     "output_type": "execute_result"
    }
   ],
   "source": [
    "#Seleccionar palabras\n",
    "cv.get_feature_names()[10000]"
   ]
  },
  {
   "cell_type": "code",
   "execution_count": 23,
   "metadata": {},
   "outputs": [
    {
     "data": {
      "text/plain": [
       "'overview'"
      ]
     },
     "execution_count": 23,
     "metadata": {},
     "output_type": "execute_result"
    }
   ],
   "source": [
    "#Seleccion de palabras aleatorias\n",
    "import random\n",
    "random_word_id = random.randint(0,17473)\n",
    "cv.get_feature_names()[random_word_id]"
   ]
  },
  {
   "cell_type": "markdown",
   "metadata": {},
   "source": [
    "Captar los temas"
   ]
  },
  {
   "cell_type": "code",
   "execution_count": 24,
   "metadata": {},
   "outputs": [
    {
     "data": {
      "text/plain": [
       "5"
      ]
     },
     "execution_count": 24,
     "metadata": {},
     "output_type": "execute_result"
    }
   ],
   "source": [
    "len(LDA.components_)"
   ]
  },
  {
   "cell_type": "code",
   "execution_count": 25,
   "metadata": {},
   "outputs": [
    {
     "data": {
      "text/plain": [
       "numpy.ndarray"
      ]
     },
     "execution_count": 25,
     "metadata": {},
     "output_type": "execute_result"
    }
   ],
   "source": [
    "#Matriz de py que contiene probabilidades para cada palabra\n",
    "type(LDA.components_)"
   ]
  },
  {
   "cell_type": "code",
   "execution_count": 26,
   "metadata": {},
   "outputs": [
    {
     "data": {
      "text/plain": [
       "(5, 17473)"
      ]
     },
     "execution_count": 26,
     "metadata": {},
     "output_type": "execute_result"
    }
   ],
   "source": [
    "#Forma de la matriz\n",
    "LDA.components_.shape"
   ]
  },
  {
   "cell_type": "code",
   "execution_count": 27,
   "metadata": {},
   "outputs": [
    {
     "data": {
      "text/plain": [
       "array([[2.26622616e+00, 3.45874966e+01, 4.11999271e+01, ...,\n",
       "        7.60895727e+00, 2.00828990e-01, 2.19989596e+00],\n",
       "       [2.02700090e+00, 2.76161223e+02, 2.00016493e-01, ...,\n",
       "        2.01501593e-01, 2.00000069e-01, 2.00000240e-01],\n",
       "       [2.00000712e-01, 1.72652911e+01, 2.00000364e-01, ...,\n",
       "        2.34155988e+00, 4.19917067e+00, 2.00000479e-01],\n",
       "       [2.00679049e-01, 1.50195674e+02, 2.00005970e-01, ...,\n",
       "        2.00611652e-01, 2.00000155e-01, 2.00103024e-01],\n",
       "       [2.30609318e+00, 3.26790316e+02, 2.00050024e-01, ...,\n",
       "        4.64736960e+00, 2.00000113e-01, 2.00000294e-01]])"
      ]
     },
     "execution_count": 27,
     "metadata": {},
     "output_type": "execute_result"
    }
   ],
   "source": [
    "#Vista de componentes\n",
    "LDA.components_"
   ]
  },
  {
   "cell_type": "code",
   "execution_count": 28,
   "metadata": {},
   "outputs": [],
   "source": [
    "#Trabajando con un tema\n",
    "single_topic = LDA.components_[0]"
   ]
  },
  {
   "cell_type": "code",
   "execution_count": 29,
   "metadata": {},
   "outputs": [
    {
     "data": {
      "text/plain": [
       "array([13214,  5925,  1602, ..., 13725,  2177,  6422], dtype=int64)"
      ]
     },
     "execution_count": 29,
     "metadata": {},
     "output_type": "execute_result"
    }
   ],
   "source": [
    "#Ordenar los indices de la matriz de la mas baja a la mas alta\n",
    "single_topic.argsort()"
   ]
  },
  {
   "cell_type": "code",
   "execution_count": 32,
   "metadata": {},
   "outputs": [
    {
     "data": {
      "text/plain": [
       "array([2, 0, 1], dtype=int64)"
      ]
     },
     "execution_count": 32,
     "metadata": {},
     "output_type": "execute_result"
    }
   ],
   "source": [
    "import numpy as np\n",
    "#Ejemplo\n",
    "arr = np.array([10,200,3])\n",
    "arr.argsort()"
   ]
  },
  {
   "cell_type": "code",
   "execution_count": 33,
   "metadata": {},
   "outputs": [
    {
     "data": {
      "text/plain": [
       "array([ 5758, 17251, 15909, 10773, 17292,  6920, 17387, 13725,  2177,\n",
       "        6422], dtype=int64)"
      ]
     },
     "execution_count": 33,
     "metadata": {},
     "output_type": "execute_result"
    }
   ],
   "source": [
    "#10 palabras mas frecuentes en el tema 1\n",
    "single_topic.argsort()[-10:]"
   ]
  },
  {
   "cell_type": "code",
   "execution_count": 34,
   "metadata": {},
   "outputs": [],
   "source": [
    "top_ten_words = single_topic.argsort()[-10:]"
   ]
  },
  {
   "cell_type": "code",
   "execution_count": 35,
   "metadata": {},
   "outputs": [
    {
     "name": "stdout",
     "output_type": "stream",
     "text": [
      "england\n",
      "won\n",
      "time\n",
      "new\n",
      "world\n",
      "game\n",
      "year\n",
      "said\n",
      "best\n",
      "film\n"
     ]
    }
   ],
   "source": [
    "for index in top_ten_words:\n",
    "    print(cv.get_feature_names()[index])"
   ]
  },
  {
   "cell_type": "code",
   "execution_count": 36,
   "metadata": {},
   "outputs": [],
   "source": [
    "#Captar las palabras de mayor probabilidad por tema"
   ]
  },
  {
   "cell_type": "code",
   "execution_count": 37,
   "metadata": {},
   "outputs": [
    {
     "name": "stdout",
     "output_type": "stream",
     "text": [
      "Las principales 15 palabras del tema #(index)\n",
      "['win', 'just', 'awards', 'years', 'games', 'england', 'won', 'time', 'new', 'world', 'game', 'year', 'said', 'best', 'film']\n",
      "\n",
      "\n",
      "\n",
      "\n",
      "Las principales 15 palabras del tema #(index)\n",
      "['brown', 'told', 'minister', 'music', 'mobile', 'uk', 'blair', 'party', 'election', 'new', 'labour', 'government', 'people', 'mr', 'said']\n",
      "\n",
      "\n",
      "\n",
      "\n",
      "Las principales 15 palabras del tema #(index)\n",
      "['good', 'cup', 'players', 'year', 'league', 'open', 'play', 'match', 'chelsea', 'united', 'time', 'win', 'game', 'club', 'said']\n",
      "\n",
      "\n",
      "\n",
      "\n",
      "Las principales 15 palabras del tema #(index)\n",
      "['microsoft', 'information', 'computer', 'search', 'use', 'security', 'china', 'world', 'new', 'net', 'users', 'mr', 'software', 'people', 'said']\n",
      "\n",
      "\n",
      "\n",
      "\n",
      "Las principales 15 palabras del tema #(index)\n",
      "['years', 'economic', '000', 'uk', 'firm', 'mr', 'economy', '2004', 'growth', 'market', 'new', 'sales', 'company', 'year', 'said']\n",
      "\n",
      "\n",
      "\n",
      "\n"
     ]
    }
   ],
   "source": [
    "for index,topic in enumerate(LDA.components_):\n",
    "    print(f'Las principales 15 palabras del tema #(index)')\n",
    "    print([cv.get_feature_names()[index] for index in topic.argsort()[-15:]])\n",
    "    print('\\n')\n",
    "    print('\\n')"
   ]
  },
  {
   "cell_type": "code",
   "execution_count": 38,
   "metadata": {},
   "outputs": [
    {
     "data": {
      "text/plain": [
       "<2225x17473 sparse matrix of type '<class 'numpy.int64'>'\n",
       "\twith 310493 stored elements in Compressed Sparse Row format>"
      ]
     },
     "execution_count": 38,
     "metadata": {},
     "output_type": "execute_result"
    }
   ],
   "source": [
    "#Documento original convertido en matriz\n",
    "dtm"
   ]
  },
  {
   "cell_type": "code",
   "execution_count": 39,
   "metadata": {},
   "outputs": [
    {
     "data": {
      "text/html": [
       "<div>\n",
       "<style scoped>\n",
       "    .dataframe tbody tr th:only-of-type {\n",
       "        vertical-align: middle;\n",
       "    }\n",
       "\n",
       "    .dataframe tbody tr th {\n",
       "        vertical-align: top;\n",
       "    }\n",
       "\n",
       "    .dataframe thead th {\n",
       "        text-align: right;\n",
       "    }\n",
       "</style>\n",
       "<table border=\"1\" class=\"dataframe\">\n",
       "  <thead>\n",
       "    <tr style=\"text-align: right;\">\n",
       "      <th></th>\n",
       "      <th>Unnamed: 0</th>\n",
       "      <th>Type</th>\n",
       "      <th>News</th>\n",
       "    </tr>\n",
       "  </thead>\n",
       "  <tbody>\n",
       "    <tr>\n",
       "      <th>0</th>\n",
       "      <td>0</td>\n",
       "      <td>Business</td>\n",
       "      <td>Ad sales boost Time Warner profit\\n\\nQuarterly...</td>\n",
       "    </tr>\n",
       "    <tr>\n",
       "      <th>1</th>\n",
       "      <td>1</td>\n",
       "      <td>Business</td>\n",
       "      <td>Dollar gains on Greenspan speech\\n\\nThe dollar...</td>\n",
       "    </tr>\n",
       "    <tr>\n",
       "      <th>2</th>\n",
       "      <td>2</td>\n",
       "      <td>Business</td>\n",
       "      <td>Yukos unit buyer faces loan claim\\n\\nThe owner...</td>\n",
       "    </tr>\n",
       "    <tr>\n",
       "      <th>3</th>\n",
       "      <td>3</td>\n",
       "      <td>Business</td>\n",
       "      <td>High fuel prices hit BA's profits\\n\\nBritish A...</td>\n",
       "    </tr>\n",
       "    <tr>\n",
       "      <th>4</th>\n",
       "      <td>4</td>\n",
       "      <td>Business</td>\n",
       "      <td>Pernod takeover talk lifts Domecq\\n\\nShares in...</td>\n",
       "    </tr>\n",
       "  </tbody>\n",
       "</table>\n",
       "</div>"
      ],
      "text/plain": [
       "   Unnamed: 0      Type                                               News\n",
       "0           0  Business  Ad sales boost Time Warner profit\\n\\nQuarterly...\n",
       "1           1  Business  Dollar gains on Greenspan speech\\n\\nThe dollar...\n",
       "2           2  Business  Yukos unit buyer faces loan claim\\n\\nThe owner...\n",
       "3           3  Business  High fuel prices hit BA's profits\\n\\nBritish A...\n",
       "4           4  Business  Pernod takeover talk lifts Domecq\\n\\nShares in..."
      ]
     },
     "execution_count": 39,
     "metadata": {},
     "output_type": "execute_result"
    }
   ],
   "source": [
    "#Datos\n",
    "npr.head()"
   ]
  },
  {
   "cell_type": "code",
   "execution_count": 40,
   "metadata": {},
   "outputs": [],
   "source": [
    "#Agregar analisis a conjunto de datos con el titulo e cada tema"
   ]
  },
  {
   "cell_type": "code",
   "execution_count": 41,
   "metadata": {},
   "outputs": [],
   "source": [
    "#Crear lista con temas reales de la matriz dtm\n",
    "topic_result = LDA.transform(dtm)"
   ]
  },
  {
   "cell_type": "code",
   "execution_count": 42,
   "metadata": {},
   "outputs": [
    {
     "data": {
      "text/plain": [
       "(2225, 5)"
      ]
     },
     "execution_count": 42,
     "metadata": {},
     "output_type": "execute_result"
    }
   ],
   "source": [
    "#Matrizcon los temas\n",
    "topic_result.shape"
   ]
  },
  {
   "cell_type": "code",
   "execution_count": 45,
   "metadata": {},
   "outputs": [
    {
     "data": {
      "text/plain": [
       "array([0.04, 0.  , 0.  , 0.18, 0.78])"
      ]
     },
     "execution_count": 45,
     "metadata": {},
     "output_type": "execute_result"
    }
   ],
   "source": [
    "#provavilidades de pertenecer a un tema en particular redondeado\n",
    "topic_result[0].round(2)"
   ]
  },
  {
   "cell_type": "code",
   "execution_count": 46,
   "metadata": {},
   "outputs": [
    {
     "data": {
      "text/plain": [
       "4"
      ]
     },
     "execution_count": 46,
     "metadata": {},
     "output_type": "execute_result"
    }
   ],
   "source": [
    "#Tema al que pertenece cada articulo\n",
    "topic_result[0].argmax()"
   ]
  },
  {
   "cell_type": "code",
   "execution_count": 51,
   "metadata": {},
   "outputs": [],
   "source": [
    "npr['Tema_LDA'] = topic_result.argmax(axis=1)"
   ]
  },
  {
   "cell_type": "code",
   "execution_count": 52,
   "metadata": {},
   "outputs": [
    {
     "data": {
      "text/html": [
       "<div>\n",
       "<style scoped>\n",
       "    .dataframe tbody tr th:only-of-type {\n",
       "        vertical-align: middle;\n",
       "    }\n",
       "\n",
       "    .dataframe tbody tr th {\n",
       "        vertical-align: top;\n",
       "    }\n",
       "\n",
       "    .dataframe thead th {\n",
       "        text-align: right;\n",
       "    }\n",
       "</style>\n",
       "<table border=\"1\" class=\"dataframe\">\n",
       "  <thead>\n",
       "    <tr style=\"text-align: right;\">\n",
       "      <th></th>\n",
       "      <th>Unnamed: 0</th>\n",
       "      <th>Type</th>\n",
       "      <th>News</th>\n",
       "      <th>Tema</th>\n",
       "      <th>Tema_LDA</th>\n",
       "    </tr>\n",
       "  </thead>\n",
       "  <tbody>\n",
       "    <tr>\n",
       "      <th>0</th>\n",
       "      <td>0</td>\n",
       "      <td>Business</td>\n",
       "      <td>Ad sales boost Time Warner profit\\n\\nQuarterly...</td>\n",
       "      <td>4</td>\n",
       "      <td>4</td>\n",
       "    </tr>\n",
       "    <tr>\n",
       "      <th>1</th>\n",
       "      <td>1</td>\n",
       "      <td>Business</td>\n",
       "      <td>Dollar gains on Greenspan speech\\n\\nThe dollar...</td>\n",
       "      <td>4</td>\n",
       "      <td>4</td>\n",
       "    </tr>\n",
       "    <tr>\n",
       "      <th>2</th>\n",
       "      <td>2</td>\n",
       "      <td>Business</td>\n",
       "      <td>Yukos unit buyer faces loan claim\\n\\nThe owner...</td>\n",
       "      <td>3</td>\n",
       "      <td>3</td>\n",
       "    </tr>\n",
       "    <tr>\n",
       "      <th>3</th>\n",
       "      <td>3</td>\n",
       "      <td>Business</td>\n",
       "      <td>High fuel prices hit BA's profits\\n\\nBritish A...</td>\n",
       "      <td>4</td>\n",
       "      <td>4</td>\n",
       "    </tr>\n",
       "    <tr>\n",
       "      <th>4</th>\n",
       "      <td>4</td>\n",
       "      <td>Business</td>\n",
       "      <td>Pernod takeover talk lifts Domecq\\n\\nShares in...</td>\n",
       "      <td>4</td>\n",
       "      <td>4</td>\n",
       "    </tr>\n",
       "  </tbody>\n",
       "</table>\n",
       "</div>"
      ],
      "text/plain": [
       "   Unnamed: 0      Type                                               News  \\\n",
       "0           0  Business  Ad sales boost Time Warner profit\\n\\nQuarterly...   \n",
       "1           1  Business  Dollar gains on Greenspan speech\\n\\nThe dollar...   \n",
       "2           2  Business  Yukos unit buyer faces loan claim\\n\\nThe owner...   \n",
       "3           3  Business  High fuel prices hit BA's profits\\n\\nBritish A...   \n",
       "4           4  Business  Pernod takeover talk lifts Domecq\\n\\nShares in...   \n",
       "\n",
       "   Tema  Tema_LDA  \n",
       "0     4         4  \n",
       "1     4         4  \n",
       "2     3         3  \n",
       "3     4         4  \n",
       "4     4         4  "
      ]
     },
     "execution_count": 52,
     "metadata": {},
     "output_type": "execute_result"
    }
   ],
   "source": [
    "npr.head()"
   ]
  },
  {
   "cell_type": "markdown",
   "metadata": {},
   "source": [
    "# No negativa Matriz factorizacion"
   ]
  },
  {
   "cell_type": "code",
   "execution_count": 53,
   "metadata": {},
   "outputs": [],
   "source": [
    "from sklearn.feature_extraction.text import TfidfVectorizer"
   ]
  },
  {
   "cell_type": "code",
   "execution_count": 54,
   "metadata": {},
   "outputs": [],
   "source": [
    "tfildf = TfidfVectorizer(max_df=0.95,min_df=2,stop_words='english')\n",
    "#max_df: Elimina los terminos que se repiten en gran parte de los documentos y se indica la probabilidad de frecuencia de los terminos a eliminar\n",
    "#min_df: Elimina los terminos que aparecen con muy poca frecuencia en los documentos y se indica la frecuenci minima con un numero de apariciones\n",
    "#stop_words: Elimina las palabras innecesarias como los conectores, espacios, etc. Se indica el idioma."
   ]
  },
  {
   "cell_type": "code",
   "execution_count": 55,
   "metadata": {},
   "outputs": [],
   "source": [
    "#Crear matriz de valores con las noticias del dataset\n",
    "dmt = tfildf.fit_transform(npr['News'])"
   ]
  },
  {
   "cell_type": "code",
   "execution_count": 56,
   "metadata": {},
   "outputs": [
    {
     "data": {
      "text/plain": [
       "<2225x17473 sparse matrix of type '<class 'numpy.float64'>'\n",
       "\twith 310493 stored elements in Compressed Sparse Row format>"
      ]
     },
     "execution_count": 56,
     "metadata": {},
     "output_type": "execute_result"
    }
   ],
   "source": [
    "#Matriz de articulos por el numero de palabras\n",
    "dmt"
   ]
  },
  {
   "cell_type": "markdown",
   "metadata": {},
   "source": [
    "Realizar Matriz de descomposicion"
   ]
  },
  {
   "cell_type": "code",
   "execution_count": 57,
   "metadata": {},
   "outputs": [],
   "source": [
    "from sklearn.decomposition import NMF"
   ]
  },
  {
   "cell_type": "code",
   "execution_count": 58,
   "metadata": {},
   "outputs": [],
   "source": [
    "nmf_model=NMF(n_components=5,random_state=42)\n",
    "#n_components: Numero de temas en el documento\n",
    "#random_state: Inicia la matriz con valores aleatorios"
   ]
  },
  {
   "cell_type": "code",
   "execution_count": 59,
   "metadata": {},
   "outputs": [
    {
     "data": {
      "text/plain": [
       "NMF(alpha=0.0, beta_loss='frobenius', init=None, l1_ratio=0.0, max_iter=200,\n",
       "  n_components=5, random_state=42, shuffle=False, solver='cd', tol=0.0001,\n",
       "  verbose=0)"
      ]
     },
     "execution_count": 59,
     "metadata": {},
     "output_type": "execute_result"
    }
   ],
   "source": [
    "#Ajustar el modelo a la matriz creada\n",
    "nmf_model.fit(dmt)"
   ]
  },
  {
   "cell_type": "code",
   "execution_count": 60,
   "metadata": {},
   "outputs": [
    {
     "data": {
      "text/plain": [
       "'basingstoke'"
      ]
     },
     "execution_count": 60,
     "metadata": {},
     "output_type": "execute_result"
    }
   ],
   "source": [
    "#Obtener una palabra\n",
    "tfildf.get_feature_names()[2000]"
   ]
  },
  {
   "cell_type": "code",
   "execution_count": 61,
   "metadata": {},
   "outputs": [
    {
     "name": "stdout",
     "output_type": "stream",
     "text": [
      "The top 15 words for topic # 0\n",
      "['video', 'tv', 'microsoft', 'phones', 'net', 'software', 'broadband', 'users', 'phone', 'technology', 'digital', 'said', 'music', 'people', 'mobile']\n",
      "\n",
      "\n",
      "The top 15 words for topic # 1\n",
      "['tories', 'tory', 'tax', 'prime', 'chancellor', 'minister', 'howard', 'government', 'said', 'party', 'brown', 'election', 'blair', 'labour', 'mr']\n",
      "\n",
      "\n",
      "The top 15 words for topic # 2\n",
      "['coach', 'injury', 'france', 'match', 'rugby', 'players', 'play', 'team', 'said', 'cup', 'ireland', 'wales', 'win', 'game', 'england']\n",
      "\n",
      "\n",
      "The top 15 words for topic # 3\n",
      "['year', 'star', 'comedy', 'aviator', 'director', 'films', 'won', 'festival', 'actress', 'oscar', 'actor', 'award', 'awards', 'best', 'film']\n",
      "\n",
      "\n",
      "The top 15 words for topic # 4\n",
      "['rates', 'dollar', 'rate', 'china', 'market', '2004', 'prices', 'oil', 'economic', 'sales', 'year', 'bank', 'said', 'economy', 'growth']\n",
      "\n",
      "\n"
     ]
    }
   ],
   "source": [
    "#Obtener los temas correspondientes y las palabras relacionadas con cada tema\n",
    "for index,topic in enumerate(nmf_model.components_):\n",
    "    print(f'The top 15 words for topic # {index}')\n",
    "    print([tfildf.get_feature_names()[i] for i in topic.argsort()[-15:]])\n",
    "    print('\\n')"
   ]
  },
  {
   "cell_type": "markdown",
   "metadata": {},
   "source": [
    "Adjuntar las etiquetas de los textos de descubrimiento para que aparezcan en los articulos originales"
   ]
  },
  {
   "cell_type": "code",
   "execution_count": 64,
   "metadata": {},
   "outputs": [],
   "source": [
    "#Almacenar los resultados de la transformacion matricial en una variable\n",
    "topic_results = nmf_model.transform(dmt)"
   ]
  },
  {
   "cell_type": "code",
   "execution_count": 65,
   "metadata": {},
   "outputs": [
    {
     "data": {
      "text/plain": [
       "array([[0.02872331, 0.        , 0.        , 0.01950167, 0.11132663],\n",
       "       [0.        , 0.00862298, 0.00396475, 0.00102976, 0.14713907],\n",
       "       [0.        , 0.00438948, 0.        , 0.        , 0.09375638],\n",
       "       ...,\n",
       "       [0.06501645, 0.02313799, 0.00988036, 0.        , 0.01954545],\n",
       "       [0.048924  , 0.0277534 , 0.        , 0.        , 0.00919157],\n",
       "       [0.07781879, 0.0055701 , 0.11342189, 0.00437516, 0.        ]])"
      ]
     },
     "execution_count": 65,
     "metadata": {},
     "output_type": "execute_result"
    }
   ],
   "source": [
    "#Resultados\n",
    "topic_results"
   ]
  },
  {
   "cell_type": "code",
   "execution_count": 67,
   "metadata": {},
   "outputs": [],
   "source": [
    "#Almacenar datos de matriz en un csv\n",
    "df = pd.DataFrame(topic_result,index=topic_result[:,0])"
   ]
  },
  {
   "cell_type": "code",
   "execution_count": 66,
   "metadata": {},
   "outputs": [
    {
     "ename": "NameError",
     "evalue": "name 'df' is not defined",
     "output_type": "error",
     "traceback": [
      "\u001b[1;31m---------------------------------------------------------------------------\u001b[0m",
      "\u001b[1;31mNameError\u001b[0m                                 Traceback (most recent call last)",
      "\u001b[1;32m<ipython-input-66-c42a15b2c7cf>\u001b[0m in \u001b[0;36m<module>\u001b[1;34m\u001b[0m\n\u001b[1;32m----> 1\u001b[1;33m \u001b[0mdf\u001b[0m\u001b[1;33m.\u001b[0m\u001b[0mhead\u001b[0m\u001b[1;33m(\u001b[0m\u001b[1;33m)\u001b[0m\u001b[1;33m\u001b[0m\u001b[1;33m\u001b[0m\u001b[0m\n\u001b[0m",
      "\u001b[1;31mNameError\u001b[0m: name 'df' is not defined"
     ]
    }
   ],
   "source": [
    "df.head()"
   ]
  },
  {
   "cell_type": "code",
   "execution_count": 68,
   "metadata": {},
   "outputs": [],
   "source": [
    "df.to_csv(r'C:\\\\Users\\\\fabia\\\\Desktop\\\\PLN\\\\News222.csv',sep=';')"
   ]
  },
  {
   "cell_type": "code",
   "execution_count": 69,
   "metadata": {},
   "outputs": [
    {
     "data": {
      "text/plain": [
       "4"
      ]
     },
     "execution_count": 69,
     "metadata": {},
     "output_type": "execute_result"
    }
   ],
   "source": [
    "#Numero de tema correspondiente al primer elemento de la matriz\n",
    "topic_result[0].argmax()"
   ]
  },
  {
   "cell_type": "code",
   "execution_count": 70,
   "metadata": {},
   "outputs": [
    {
     "data": {
      "text/plain": [
       "array([4, 4, 3, ..., 3, 3, 0], dtype=int64)"
      ]
     },
     "execution_count": 70,
     "metadata": {},
     "output_type": "execute_result"
    }
   ],
   "source": [
    "#Tranzfomar la matriz de resultados a un arreglo con los temas de cada elemento\n",
    "topic_result.argmax(axis=1)"
   ]
  },
  {
   "cell_type": "code",
   "execution_count": 71,
   "metadata": {},
   "outputs": [],
   "source": [
    "#Almacenar resultados en nueva columna del dataset\n",
    "npr['Topic_MATRIX'] = topic_result.argmax(axis=1)"
   ]
  },
  {
   "cell_type": "code",
   "execution_count": 73,
   "metadata": {},
   "outputs": [
    {
     "data": {
      "text/html": [
       "<div>\n",
       "<style scoped>\n",
       "    .dataframe tbody tr th:only-of-type {\n",
       "        vertical-align: middle;\n",
       "    }\n",
       "\n",
       "    .dataframe tbody tr th {\n",
       "        vertical-align: top;\n",
       "    }\n",
       "\n",
       "    .dataframe thead th {\n",
       "        text-align: right;\n",
       "    }\n",
       "</style>\n",
       "<table border=\"1\" class=\"dataframe\">\n",
       "  <thead>\n",
       "    <tr style=\"text-align: right;\">\n",
       "      <th></th>\n",
       "      <th>Unnamed: 0</th>\n",
       "      <th>Type</th>\n",
       "      <th>News</th>\n",
       "      <th>Tema</th>\n",
       "      <th>Tema_LDA</th>\n",
       "      <th>Topic_MATRIX</th>\n",
       "    </tr>\n",
       "  </thead>\n",
       "  <tbody>\n",
       "    <tr>\n",
       "      <th>0</th>\n",
       "      <td>0</td>\n",
       "      <td>Business</td>\n",
       "      <td>Ad sales boost Time Warner profit\\n\\nQuarterly...</td>\n",
       "      <td>4</td>\n",
       "      <td>4</td>\n",
       "      <td>4</td>\n",
       "    </tr>\n",
       "    <tr>\n",
       "      <th>1</th>\n",
       "      <td>1</td>\n",
       "      <td>Business</td>\n",
       "      <td>Dollar gains on Greenspan speech\\n\\nThe dollar...</td>\n",
       "      <td>4</td>\n",
       "      <td>4</td>\n",
       "      <td>4</td>\n",
       "    </tr>\n",
       "    <tr>\n",
       "      <th>2</th>\n",
       "      <td>2</td>\n",
       "      <td>Business</td>\n",
       "      <td>Yukos unit buyer faces loan claim\\n\\nThe owner...</td>\n",
       "      <td>3</td>\n",
       "      <td>3</td>\n",
       "      <td>3</td>\n",
       "    </tr>\n",
       "    <tr>\n",
       "      <th>3</th>\n",
       "      <td>3</td>\n",
       "      <td>Business</td>\n",
       "      <td>High fuel prices hit BA's profits\\n\\nBritish A...</td>\n",
       "      <td>4</td>\n",
       "      <td>4</td>\n",
       "      <td>4</td>\n",
       "    </tr>\n",
       "    <tr>\n",
       "      <th>4</th>\n",
       "      <td>4</td>\n",
       "      <td>Business</td>\n",
       "      <td>Pernod takeover talk lifts Domecq\\n\\nShares in...</td>\n",
       "      <td>4</td>\n",
       "      <td>4</td>\n",
       "      <td>4</td>\n",
       "    </tr>\n",
       "  </tbody>\n",
       "</table>\n",
       "</div>"
      ],
      "text/plain": [
       "   Unnamed: 0      Type                                               News  \\\n",
       "0           0  Business  Ad sales boost Time Warner profit\\n\\nQuarterly...   \n",
       "1           1  Business  Dollar gains on Greenspan speech\\n\\nThe dollar...   \n",
       "2           2  Business  Yukos unit buyer faces loan claim\\n\\nThe owner...   \n",
       "3           3  Business  High fuel prices hit BA's profits\\n\\nBritish A...   \n",
       "4           4  Business  Pernod takeover talk lifts Domecq\\n\\nShares in...   \n",
       "\n",
       "   Tema  Tema_LDA  Topic_MATRIX  \n",
       "0     4         4             4  \n",
       "1     4         4             4  \n",
       "2     3         3             3  \n",
       "3     4         4             4  \n",
       "4     4         4             4  "
      ]
     },
     "execution_count": 73,
     "metadata": {},
     "output_type": "execute_result"
    }
   ],
   "source": [
    "npr.head()"
   ]
  },
  {
   "cell_type": "code",
   "execution_count": 24,
   "metadata": {},
   "outputs": [
    {
     "ename": "NameError",
     "evalue": "name 'mytopic_dicttopic_dict' is not defined",
     "output_type": "error",
     "traceback": [
      "\u001b[1;31m---------------------------------------------------------------------------\u001b[0m",
      "\u001b[1;31mNameError\u001b[0m                                 Traceback (most recent call last)",
      "\u001b[1;32m<ipython-input-24-0b48ec57bffa>\u001b[0m in \u001b[0;36m<module>\u001b[1;34m\u001b[0m\n\u001b[0;32m      1\u001b[0m \u001b[0mmytopic_dict\u001b[0m \u001b[1;33m=\u001b[0m \u001b[1;33m{\u001b[0m\u001b[1;36m0\u001b[0m\u001b[1;33m:\u001b[0m\u001b[1;34m'Tech'\u001b[0m\u001b[1;33m,\u001b[0m\u001b[1;36m1\u001b[0m\u001b[1;33m:\u001b[0m\u001b[1;34m'Economy'\u001b[0m\u001b[1;33m,\u001b[0m\u001b[1;36m2\u001b[0m\u001b[1;33m:\u001b[0m\u001b[1;34m'Sport'\u001b[0m\u001b[1;33m,\u001b[0m\u001b[1;36m3\u001b[0m\u001b[1;33m:\u001b[0m\u001b[1;34m'Entertainment'\u001b[0m\u001b[1;33m,\u001b[0m\u001b[1;36m4\u001b[0m\u001b[1;33m:\u001b[0m\u001b[1;34m'Business'\u001b[0m\u001b[1;33m}\u001b[0m\u001b[1;33m\u001b[0m\u001b[1;33m\u001b[0m\u001b[0m\n\u001b[1;32m----> 2\u001b[1;33m \u001b[0mnpr\u001b[0m\u001b[1;33m[\u001b[0m\u001b[1;34m'Topic Label'\u001b[0m\u001b[1;33m]\u001b[0m \u001b[1;33m=\u001b[0m \u001b[0mnpr\u001b[0m\u001b[1;33m[\u001b[0m\u001b[1;34m'Topic'\u001b[0m\u001b[1;33m]\u001b[0m\u001b[1;33m.\u001b[0m\u001b[0mmap\u001b[0m\u001b[1;33m(\u001b[0m\u001b[0mmytopic_dicttopic_dict\u001b[0m\u001b[1;33m)\u001b[0m\u001b[1;33m\u001b[0m\u001b[1;33m\u001b[0m\u001b[0m\n\u001b[0m",
      "\u001b[1;31mNameError\u001b[0m: name 'mytopic_dicttopic_dict' is not defined"
     ]
    }
   ],
   "source": [
    "#Asignarle un nombre a cadatemas en el dataset\n",
    "mytopic_dict = {0:'Tech',1:'Economy',2:'Sport',3:'Entertainment',4:'Business'}\n",
    "npr['Topic Label'] = npr['Topic'].map(mytopic_dicttopic_dict)"
   ]
  },
  {
   "cell_type": "code",
   "execution_count": 76,
   "metadata": {},
   "outputs": [
    {
     "data": {
      "text/html": [
       "<div>\n",
       "<style scoped>\n",
       "    .dataframe tbody tr th:only-of-type {\n",
       "        vertical-align: middle;\n",
       "    }\n",
       "\n",
       "    .dataframe tbody tr th {\n",
       "        vertical-align: top;\n",
       "    }\n",
       "\n",
       "    .dataframe thead th {\n",
       "        text-align: right;\n",
       "    }\n",
       "</style>\n",
       "<table border=\"1\" class=\"dataframe\">\n",
       "  <thead>\n",
       "    <tr style=\"text-align: right;\">\n",
       "      <th></th>\n",
       "      <th>Unnamed: 0</th>\n",
       "      <th>Type</th>\n",
       "      <th>News</th>\n",
       "      <th>Tema</th>\n",
       "      <th>Tema_LDA</th>\n",
       "      <th>Topic_MATRIX</th>\n",
       "    </tr>\n",
       "  </thead>\n",
       "  <tbody>\n",
       "    <tr>\n",
       "      <th>0</th>\n",
       "      <td>0</td>\n",
       "      <td>Business</td>\n",
       "      <td>Ad sales boost Time Warner profit\\n\\nQuarterly...</td>\n",
       "      <td>4</td>\n",
       "      <td>4</td>\n",
       "      <td>4</td>\n",
       "    </tr>\n",
       "    <tr>\n",
       "      <th>1</th>\n",
       "      <td>1</td>\n",
       "      <td>Business</td>\n",
       "      <td>Dollar gains on Greenspan speech\\n\\nThe dollar...</td>\n",
       "      <td>4</td>\n",
       "      <td>4</td>\n",
       "      <td>4</td>\n",
       "    </tr>\n",
       "    <tr>\n",
       "      <th>2</th>\n",
       "      <td>2</td>\n",
       "      <td>Business</td>\n",
       "      <td>Yukos unit buyer faces loan claim\\n\\nThe owner...</td>\n",
       "      <td>3</td>\n",
       "      <td>3</td>\n",
       "      <td>3</td>\n",
       "    </tr>\n",
       "    <tr>\n",
       "      <th>3</th>\n",
       "      <td>3</td>\n",
       "      <td>Business</td>\n",
       "      <td>High fuel prices hit BA's profits\\n\\nBritish A...</td>\n",
       "      <td>4</td>\n",
       "      <td>4</td>\n",
       "      <td>4</td>\n",
       "    </tr>\n",
       "    <tr>\n",
       "      <th>4</th>\n",
       "      <td>4</td>\n",
       "      <td>Business</td>\n",
       "      <td>Pernod takeover talk lifts Domecq\\n\\nShares in...</td>\n",
       "      <td>4</td>\n",
       "      <td>4</td>\n",
       "      <td>4</td>\n",
       "    </tr>\n",
       "  </tbody>\n",
       "</table>\n",
       "</div>"
      ],
      "text/plain": [
       "   Unnamed: 0      Type                                               News  \\\n",
       "0           0  Business  Ad sales boost Time Warner profit\\n\\nQuarterly...   \n",
       "1           1  Business  Dollar gains on Greenspan speech\\n\\nThe dollar...   \n",
       "2           2  Business  Yukos unit buyer faces loan claim\\n\\nThe owner...   \n",
       "3           3  Business  High fuel prices hit BA's profits\\n\\nBritish A...   \n",
       "4           4  Business  Pernod takeover talk lifts Domecq\\n\\nShares in...   \n",
       "\n",
       "   Tema  Tema_LDA  Topic_MATRIX  \n",
       "0     4         4             4  \n",
       "1     4         4             4  \n",
       "2     3         3             3  \n",
       "3     4         4             4  \n",
       "4     4         4             4  "
      ]
     },
     "execution_count": 76,
     "metadata": {},
     "output_type": "execute_result"
    }
   ],
   "source": [
    "npr.head()"
   ]
  },
  {
   "cell_type": "markdown",
   "metadata": {},
   "source": [
    "# MINI SOM"
   ]
  },
  {
   "cell_type": "markdown",
   "metadata": {},
   "source": [
    "# SOM\n",
    "\n"
   ]
  },
  {
   "cell_type": "code",
   "execution_count": 46,
   "metadata": {},
   "outputs": [
    {
     "name": "stderr",
     "output_type": "stream",
     "text": [
      "Loaded backend module://ipykernel.pylab.backend_inline version unknown.\n"
     ]
    }
   ],
   "source": [
    "import numpy as np\n",
    "import matplotlib.pyplot as plt\n",
    "from mpl_toolkits.mplot3d import Axes3D\n",
    "import somoclu\n",
    "%matplotlib inline"
   ]
  },
  {
   "cell_type": "code",
   "execution_count": 47,
   "metadata": {},
   "outputs": [],
   "source": [
    "data = np.genfromtxt('News222.csv', delimiter=';', usecols=(0, 1, 2, 3, 4, 5))\n"
   ]
  },
  {
   "cell_type": "code",
   "execution_count": 48,
   "metadata": {},
   "outputs": [
    {
     "data": {
      "text/plain": [
       "13356"
      ]
     },
     "execution_count": 48,
     "metadata": {},
     "output_type": "execute_result"
    }
   ],
   "source": [
    "data.size"
   ]
  },
  {
   "cell_type": "code",
   "execution_count": 49,
   "metadata": {},
   "outputs": [],
   "source": [
    "# data normalization\n",
    "data = np.apply_along_axis(lambda x: x/np.linalg.norm(x), 1, data)\n",
    "\n"
   ]
  },
  {
   "cell_type": "code",
   "execution_count": 50,
   "metadata": {},
   "outputs": [
    {
     "data": {
      "text/plain": [
       "array([[       nan,        nan,        nan,        nan,        nan,\n",
       "               nan],\n",
       "       [0.23916181, 0.23916181, 0.        , 0.        , 0.16237869,\n",
       "        0.92695006],\n",
       "       [0.        , 0.        , 0.05848133, 0.02688904, 0.00698386,\n",
       "        0.99790187],\n",
       "       ...,\n",
       "       [0.66813549, 0.66813549, 0.23777536, 0.10153463, 0.        ,\n",
       "        0.20085698],\n",
       "       [0.65134506, 0.65134506, 0.36949228, 0.        , 0.        ,\n",
       "        0.12237112],\n",
       "       [0.49191133, 0.49191133, 0.03520996, 0.71696713, 0.02765643,\n",
       "        0.        ]])"
      ]
     },
     "execution_count": 50,
     "metadata": {},
     "output_type": "execute_result"
    }
   ],
   "source": [
    "data"
   ]
  },
  {
   "cell_type": "code",
   "execution_count": 51,
   "metadata": {},
   "outputs": [
    {
     "name": "stdout",
     "output_type": "stream",
     "text": [
      "Training...\n",
      "\n",
      "...ready!\n"
     ]
    },
    {
     "data": {
      "text/plain": [
       "(2226, 6)"
      ]
     },
     "execution_count": 51,
     "metadata": {},
     "output_type": "execute_result"
    }
   ],
   "source": [
    "from minisom import MiniSom\n",
    "# Initialization and training\n",
    "som = MiniSom(7, 7, 6, sigma=1.0, learning_rate=0.5)\n",
    "som.random_weights_init(data)\n",
    "print(\"Training...\")\n",
    "som.train_random(data, 100)  # random training\n",
    "print(\"\\n...ready!\")\n",
    "data.shape"
   ]
  },
  {
   "cell_type": "code",
   "execution_count": 52,
   "metadata": {},
   "outputs": [
    {
     "name": "stderr",
     "output_type": "stream",
     "text": [
      "locator: <matplotlib.colorbar._ColorbarAutoLocator object at 0x00000216D3D31390>\n",
      "Using auto colorbar locator on colorbar\n",
      "locator: <matplotlib.colorbar._ColorbarAutoLocator object at 0x00000216D3D31390>\n",
      "Setting pcolormesh\n"
     ]
    },
    {
     "data": {
      "text/plain": [
       "<matplotlib.colorbar.Colorbar at 0x216d2b312e8>"
      ]
     },
     "execution_count": 52,
     "metadata": {},
     "output_type": "execute_result"
    },
    {
     "data": {
      "image/png": "[encoded data removed]",
      "text/plain": [
       "<Figure size 432x288 with 2 Axes>"
      ]
     },
     "metadata": {
      "needs_background": "light"
     },
     "output_type": "display_data"
    }
   ],
   "source": [
    "# Plotting the response for each pattern in the iris dataset\n",
    "plt.bone()\n",
    "plt.pcolor(som.distance_map().T)  # plotting the distance map as background\n",
    "plt.colorbar()"
   ]
  },
  {
   "cell_type": "code",
   "execution_count": 53,
   "metadata": {},
   "outputs": [
    {
     "data": {
      "text/plain": [
       "<function ndarray.view>"
      ]
     },
     "execution_count": 53,
     "metadata": {},
     "output_type": "execute_result"
    }
   ],
   "source": [
    "data.view"
   ]
  },
  {
   "cell_type": "code",
   "execution_count": 54,
   "metadata": {},
   "outputs": [
    {
     "name": "stderr",
     "output_type": "stream",
     "text": [
      "Loaded backend module://ipykernel.pylab.backend_inline version unknown.\n"
     ]
    }
   ],
   "source": [
    "import numpy as np\n",
    "import matplotlib.pyplot as plt\n",
    "from mpl_toolkits.mplot3d import Axes3D\n",
    "import somoclu\n",
    "%matplotlib inline"
   ]
  },
  {
   "cell_type": "code",
   "execution_count": 55,
   "metadata": {},
   "outputs": [
    {
     "ename": "ValueError",
     "evalue": "'c' argument has 200 elements, which is not acceptable for use with 'x' with size 2225, 'y' with size 2225.",
     "output_type": "error",
     "traceback": [
      "\u001b[1;31m---------------------------------------------------------------------------\u001b[0m",
      "\u001b[1;31mValueError\u001b[0m                                Traceback (most recent call last)",
      "\u001b[1;32mC:\\ProgramData\\Anaconda3\\lib\\site-packages\\matplotlib\\axes\\_axes.py\u001b[0m in \u001b[0;36m_parse_scatter_color_args\u001b[1;34m(c, edgecolors, kwargs, xshape, yshape, get_next_color_func)\u001b[0m\n\u001b[0;32m   4282\u001b[0m                     \u001b[0mvalid_shape\u001b[0m \u001b[1;33m=\u001b[0m \u001b[1;32mFalse\u001b[0m\u001b[1;33m\u001b[0m\u001b[1;33m\u001b[0m\u001b[0m\n\u001b[1;32m-> 4283\u001b[1;33m                     \u001b[1;32mraise\u001b[0m \u001b[0mValueError\u001b[0m\u001b[1;33m\u001b[0m\u001b[1;33m\u001b[0m\u001b[0m\n\u001b[0m\u001b[0;32m   4284\u001b[0m             \u001b[1;32mexcept\u001b[0m \u001b[0mValueError\u001b[0m\u001b[1;33m:\u001b[0m\u001b[1;33m\u001b[0m\u001b[1;33m\u001b[0m\u001b[0m\n",
      "\u001b[1;31mValueError\u001b[0m: ",
      "\nDuring handling of the above exception, another exception occurred:\n",
      "\u001b[1;31mValueError\u001b[0m                                Traceback (most recent call last)",
      "\u001b[1;32m<ipython-input-55-b36a0bcda8cd>\u001b[0m in \u001b[0;36m<module>\u001b[1;34m\u001b[0m\n\u001b[0;32m     10\u001b[0m \u001b[0mfig\u001b[0m \u001b[1;33m=\u001b[0m \u001b[0mplt\u001b[0m\u001b[1;33m.\u001b[0m\u001b[0mfigure\u001b[0m\u001b[1;33m(\u001b[0m\u001b[1;33m)\u001b[0m\u001b[1;33m\u001b[0m\u001b[1;33m\u001b[0m\u001b[0m\n\u001b[0;32m     11\u001b[0m \u001b[0max\u001b[0m \u001b[1;33m=\u001b[0m \u001b[0mAxes3D\u001b[0m\u001b[1;33m(\u001b[0m\u001b[0mfig\u001b[0m\u001b[1;33m)\u001b[0m\u001b[1;33m\u001b[0m\u001b[1;33m\u001b[0m\u001b[0m\n\u001b[1;32m---> 12\u001b[1;33m \u001b[0max\u001b[0m\u001b[1;33m.\u001b[0m\u001b[0mscatter\u001b[0m\u001b[1;33m(\u001b[0m\u001b[0mdata\u001b[0m\u001b[1;33m[\u001b[0m\u001b[1;33m:\u001b[0m\u001b[1;33m,\u001b[0m \u001b[1;36m0\u001b[0m\u001b[1;33m]\u001b[0m\u001b[1;33m,\u001b[0m \u001b[0mdata\u001b[0m\u001b[1;33m[\u001b[0m\u001b[1;33m:\u001b[0m\u001b[1;33m,\u001b[0m \u001b[1;36m1\u001b[0m\u001b[1;33m]\u001b[0m\u001b[1;33m,\u001b[0m \u001b[0mdata\u001b[0m\u001b[1;33m[\u001b[0m\u001b[1;33m:\u001b[0m\u001b[1;33m,\u001b[0m \u001b[1;36m2\u001b[0m\u001b[1;33m]\u001b[0m\u001b[1;33m,\u001b[0m \u001b[0mdata\u001b[0m\u001b[1;33m[\u001b[0m\u001b[1;33m:\u001b[0m\u001b[1;33m,\u001b[0m \u001b[1;36m3\u001b[0m\u001b[1;33m]\u001b[0m\u001b[1;33m,\u001b[0m \u001b[0mc\u001b[0m\u001b[1;33m=\u001b[0m\u001b[0mcolors\u001b[0m\u001b[1;33m)\u001b[0m\u001b[1;33m\u001b[0m\u001b[1;33m\u001b[0m\u001b[0m\n\u001b[0m\u001b[0;32m     13\u001b[0m \u001b[0mlabels\u001b[0m \u001b[1;33m=\u001b[0m \u001b[0mrange\u001b[0m\u001b[1;33m(\u001b[0m\u001b[1;36m150\u001b[0m\u001b[1;33m)\u001b[0m\u001b[1;33m\u001b[0m\u001b[1;33m\u001b[0m\u001b[0m\n",
      "\u001b[1;32mC:\\ProgramData\\Anaconda3\\lib\\site-packages\\mpl_toolkits\\mplot3d\\axes3d.py\u001b[0m in \u001b[0;36mscatter\u001b[1;34m(self, xs, ys, zs, zdir, s, c, depthshade, *args, **kwargs)\u001b[0m\n\u001b[0;32m   2349\u001b[0m         \u001b[0mxs\u001b[0m\u001b[1;33m,\u001b[0m \u001b[0mys\u001b[0m\u001b[1;33m,\u001b[0m \u001b[0mzs\u001b[0m\u001b[1;33m,\u001b[0m \u001b[0ms\u001b[0m\u001b[1;33m,\u001b[0m \u001b[0mc\u001b[0m \u001b[1;33m=\u001b[0m \u001b[0mcbook\u001b[0m\u001b[1;33m.\u001b[0m\u001b[0mdelete_masked_points\u001b[0m\u001b[1;33m(\u001b[0m\u001b[0mxs\u001b[0m\u001b[1;33m,\u001b[0m \u001b[0mys\u001b[0m\u001b[1;33m,\u001b[0m \u001b[0mzs\u001b[0m\u001b[1;33m,\u001b[0m \u001b[0ms\u001b[0m\u001b[1;33m,\u001b[0m \u001b[0mc\u001b[0m\u001b[1;33m)\u001b[0m\u001b[1;33m\u001b[0m\u001b[1;33m\u001b[0m\u001b[0m\n\u001b[0;32m   2350\u001b[0m \u001b[1;33m\u001b[0m\u001b[0m\n\u001b[1;32m-> 2351\u001b[1;33m         \u001b[0mpatches\u001b[0m \u001b[1;33m=\u001b[0m \u001b[0msuper\u001b[0m\u001b[1;33m(\u001b[0m\u001b[1;33m)\u001b[0m\u001b[1;33m.\u001b[0m\u001b[0mscatter\u001b[0m\u001b[1;33m(\u001b[0m\u001b[0mxs\u001b[0m\u001b[1;33m,\u001b[0m \u001b[0mys\u001b[0m\u001b[1;33m,\u001b[0m \u001b[0ms\u001b[0m\u001b[1;33m=\u001b[0m\u001b[0ms\u001b[0m\u001b[1;33m,\u001b[0m \u001b[0mc\u001b[0m\u001b[1;33m=\u001b[0m\u001b[0mc\u001b[0m\u001b[1;33m,\u001b[0m \u001b[1;33m*\u001b[0m\u001b[0margs\u001b[0m\u001b[1;33m,\u001b[0m \u001b[1;33m**\u001b[0m\u001b[0mkwargs\u001b[0m\u001b[1;33m)\u001b[0m\u001b[1;33m\u001b[0m\u001b[1;33m\u001b[0m\u001b[0m\n\u001b[0m\u001b[0;32m   2352\u001b[0m         art3d.patch_collection_2d_to_3d(patches, zs=zs, zdir=zdir,\n\u001b[0;32m   2353\u001b[0m                                         depthshade=depthshade)\n",
      "\u001b[1;32mC:\\ProgramData\\Anaconda3\\lib\\site-packages\\matplotlib\\__init__.py\u001b[0m in \u001b[0;36minner\u001b[1;34m(ax, data, *args, **kwargs)\u001b[0m\n\u001b[0;32m   1587\u001b[0m     \u001b[1;32mdef\u001b[0m \u001b[0minner\u001b[0m\u001b[1;33m(\u001b[0m\u001b[0max\u001b[0m\u001b[1;33m,\u001b[0m \u001b[1;33m*\u001b[0m\u001b[0margs\u001b[0m\u001b[1;33m,\u001b[0m \u001b[0mdata\u001b[0m\u001b[1;33m=\u001b[0m\u001b[1;32mNone\u001b[0m\u001b[1;33m,\u001b[0m \u001b[1;33m**\u001b[0m\u001b[0mkwargs\u001b[0m\u001b[1;33m)\u001b[0m\u001b[1;33m:\u001b[0m\u001b[1;33m\u001b[0m\u001b[1;33m\u001b[0m\u001b[0m\n\u001b[0;32m   1588\u001b[0m         \u001b[1;32mif\u001b[0m \u001b[0mdata\u001b[0m \u001b[1;32mis\u001b[0m \u001b[1;32mNone\u001b[0m\u001b[1;33m:\u001b[0m\u001b[1;33m\u001b[0m\u001b[1;33m\u001b[0m\u001b[0m\n\u001b[1;32m-> 1589\u001b[1;33m             \u001b[1;32mreturn\u001b[0m \u001b[0mfunc\u001b[0m\u001b[1;33m(\u001b[0m\u001b[0max\u001b[0m\u001b[1;33m,\u001b[0m \u001b[1;33m*\u001b[0m\u001b[0mmap\u001b[0m\u001b[1;33m(\u001b[0m\u001b[0msanitize_sequence\u001b[0m\u001b[1;33m,\u001b[0m \u001b[0margs\u001b[0m\u001b[1;33m)\u001b[0m\u001b[1;33m,\u001b[0m \u001b[1;33m**\u001b[0m\u001b[0mkwargs\u001b[0m\u001b[1;33m)\u001b[0m\u001b[1;33m\u001b[0m\u001b[1;33m\u001b[0m\u001b[0m\n\u001b[0m\u001b[0;32m   1590\u001b[0m \u001b[1;33m\u001b[0m\u001b[0m\n\u001b[0;32m   1591\u001b[0m         \u001b[0mbound\u001b[0m \u001b[1;33m=\u001b[0m \u001b[0mnew_sig\u001b[0m\u001b[1;33m.\u001b[0m\u001b[0mbind\u001b[0m\u001b[1;33m(\u001b[0m\u001b[0max\u001b[0m\u001b[1;33m,\u001b[0m \u001b[1;33m*\u001b[0m\u001b[0margs\u001b[0m\u001b[1;33m,\u001b[0m \u001b[1;33m**\u001b[0m\u001b[0mkwargs\u001b[0m\u001b[1;33m)\u001b[0m\u001b[1;33m\u001b[0m\u001b[1;33m\u001b[0m\u001b[0m\n",
      "\u001b[1;32mC:\\ProgramData\\Anaconda3\\lib\\site-packages\\matplotlib\\axes\\_axes.py\u001b[0m in \u001b[0;36mscatter\u001b[1;34m(self, x, y, s, c, marker, cmap, norm, vmin, vmax, alpha, linewidths, verts, edgecolors, plotnonfinite, **kwargs)\u001b[0m\n\u001b[0;32m   4444\u001b[0m             self._parse_scatter_color_args(\n\u001b[0;32m   4445\u001b[0m                 \u001b[0mc\u001b[0m\u001b[1;33m,\u001b[0m \u001b[0medgecolors\u001b[0m\u001b[1;33m,\u001b[0m \u001b[0mkwargs\u001b[0m\u001b[1;33m,\u001b[0m \u001b[0mxshape\u001b[0m\u001b[1;33m,\u001b[0m \u001b[0myshape\u001b[0m\u001b[1;33m,\u001b[0m\u001b[1;33m\u001b[0m\u001b[1;33m\u001b[0m\u001b[0m\n\u001b[1;32m-> 4446\u001b[1;33m                 get_next_color_func=self._get_patches_for_fill.get_next_color)\n\u001b[0m\u001b[0;32m   4447\u001b[0m \u001b[1;33m\u001b[0m\u001b[0m\n\u001b[0;32m   4448\u001b[0m         \u001b[1;32mif\u001b[0m \u001b[0mplotnonfinite\u001b[0m \u001b[1;32mand\u001b[0m \u001b[0mcolors\u001b[0m \u001b[1;32mis\u001b[0m \u001b[1;32mNone\u001b[0m\u001b[1;33m:\u001b[0m\u001b[1;33m\u001b[0m\u001b[1;33m\u001b[0m\u001b[0m\n",
      "\u001b[1;32mC:\\ProgramData\\Anaconda3\\lib\\site-packages\\matplotlib\\axes\\_axes.py\u001b[0m in \u001b[0;36m_parse_scatter_color_args\u001b[1;34m(c, edgecolors, kwargs, xshape, yshape, get_next_color_func)\u001b[0m\n\u001b[0;32m   4288\u001b[0m                         \u001b[1;34m\"acceptable for use with 'x' with size {xs}, \"\u001b[0m\u001b[1;33m\u001b[0m\u001b[1;33m\u001b[0m\u001b[0m\n\u001b[0;32m   4289\u001b[0m                         \u001b[1;34m\"'y' with size {ys}.\"\u001b[0m\u001b[1;33m\u001b[0m\u001b[1;33m\u001b[0m\u001b[0m\n\u001b[1;32m-> 4290\u001b[1;33m                             \u001b[1;33m.\u001b[0m\u001b[0mformat\u001b[0m\u001b[1;33m(\u001b[0m\u001b[0mnc\u001b[0m\u001b[1;33m=\u001b[0m\u001b[0mn_elem\u001b[0m\u001b[1;33m,\u001b[0m \u001b[0mxs\u001b[0m\u001b[1;33m=\u001b[0m\u001b[0mxsize\u001b[0m\u001b[1;33m,\u001b[0m \u001b[0mys\u001b[0m\u001b[1;33m=\u001b[0m\u001b[0mysize\u001b[0m\u001b[1;33m)\u001b[0m\u001b[1;33m\u001b[0m\u001b[1;33m\u001b[0m\u001b[0m\n\u001b[0m\u001b[0;32m   4291\u001b[0m                     )\n\u001b[0;32m   4292\u001b[0m                 \u001b[1;32melse\u001b[0m\u001b[1;33m:\u001b[0m\u001b[1;33m\u001b[0m\u001b[1;33m\u001b[0m\u001b[0m\n",
      "\u001b[1;31mValueError\u001b[0m: 'c' argument has 200 elements, which is not acceptable for use with 'x' with size 2225, 'y' with size 2225."
     ]
    },
    {
     "data": {
      "image/png": "[encoded data removed]",
      "text/plain": [
       "<Figure size 432x288 with 1 Axes>"
      ]
     },
     "metadata": {
      "needs_background": "light"
     },
     "output_type": "display_data"
    }
   ],
   "source": [
    "data = np.genfromtxt('News222.csv', delimiter=';', usecols=(0, 1, 2, 3))\n",
    "# data normalization\n",
    "#data = np.apply_along_axis(lambda x: x/np.linalg.norm(x), 1, data)\n",
    "data = np.float32(data)\n",
    "\n",
    "colors = [\"red\"] * 50\n",
    "colors.extend([\"green\"] * 50)\n",
    "colors.extend([\"blue\"] * 50)\n",
    "colors.extend([\"yellow\"] * 50)\n",
    "fig = plt.figure()\n",
    "ax = Axes3D(fig)\n",
    "ax.scatter(data[:, 0], data[:, 1], data[:, 2], data[:, 3], c=colors)\n",
    "labels = range(150)"
   ]
  },
  {
   "cell_type": "code",
   "execution_count": 56,
   "metadata": {},
   "outputs": [],
   "source": [
    "#c1 = np.random.rand(50, 3)/5\n",
    "c1 = np.genfromtxt('News222.csv', delimiter=';', usecols=(0, 1, 2, 3), max_rows = 50) \n",
    "#c2 = (0.6, 0.1, 0.05) + np.random.rand(50, 3)/5\n",
    "c2 = np.genfromtxt('News222.csv', delimiter=';', usecols=(0, 1, 2, 3),skip_header = 50, max_rows = 50)\n",
    "#c3 = (0.4, 0.1, 0.7) + np.random.rand(50, 3)/5\n",
    "c3 = np.genfromtxt('News222.csv', delimiter=';', usecols=(0, 1, 2, 3),skip_header=100, max_rows = 20)\n",
    "#c4 = np.genfromtxt('submission/kohonen-maps/iris.csv', delimiter=',', usecols=(3))\n",
    "datax = np.float32(np.concatenate((c1, c2, c3)))"
   ]
  },
  {
   "cell_type": "code",
   "execution_count": 57,
   "metadata": {},
   "outputs": [
    {
     "data": {
      "text/plain": [
       "array([[           nan, 0.00000000e+00, 1.00000000e+00, 2.00000000e+00],\n",
       "       [2.87233144e-02, 2.87233144e-02, 0.00000000e+00, 0.00000000e+00],\n",
       "       [0.00000000e+00, 0.00000000e+00, 8.62298161e-03, 3.96474684e-03],\n",
       "       [0.00000000e+00, 0.00000000e+00, 4.38947696e-03, 0.00000000e+00],\n",
       "       [2.48703989e-03, 2.48703989e-03, 0.00000000e+00, 6.77800132e-03],\n",
       "       [6.57559559e-03, 6.57559559e-03, 0.00000000e+00, 9.87257157e-03],\n",
       "       [0.00000000e+00, 0.00000000e+00, 0.00000000e+00, 0.00000000e+00],\n",
       "       [0.00000000e+00, 0.00000000e+00, 4.91877692e-03, 0.00000000e+00],\n",
       "       [0.00000000e+00, 0.00000000e+00, 2.12759301e-02, 1.27498312e-02],\n",
       "       [1.28276357e-02, 1.28276357e-02, 0.00000000e+00, 1.11519673e-03],\n",
       "       [5.02000935e-03, 5.02000935e-03, 1.90770365e-02, 0.00000000e+00],\n",
       "       [2.95777507e-02, 2.95777507e-02, 0.00000000e+00, 0.00000000e+00],\n",
       "       [0.00000000e+00, 0.00000000e+00, 1.83881279e-02, 7.43267068e-04],\n",
       "       [7.48981582e-03, 7.48981582e-03, 0.00000000e+00, 4.25473740e-03],\n",
       "       [2.42198687e-02, 2.42198687e-02, 2.43348014e-02, 1.10205766e-02],\n",
       "       [1.44558018e-02, 1.44558018e-02, 1.91443060e-02, 5.54571114e-03],\n",
       "       [0.00000000e+00, 0.00000000e+00, 0.00000000e+00, 0.00000000e+00],\n",
       "       [3.36903497e-03, 3.36903497e-03, 3.01322248e-03, 2.66814209e-03],\n",
       "       [1.94634369e-03, 1.94634369e-03, 0.00000000e+00, 1.77955371e-03],\n",
       "       [4.19078544e-02, 4.19078544e-02, 2.02347208e-02, 0.00000000e+00],\n",
       "       [4.84342575e-02, 4.84342575e-02, 2.07911362e-03, 2.36053113e-02],\n",
       "       [2.74634454e-02, 2.74634454e-02, 3.39919096e-03, 0.00000000e+00],\n",
       "       [1.01860275e-03, 1.01860275e-03, 2.88811605e-02, 0.00000000e+00],\n",
       "       [0.00000000e+00, 0.00000000e+00, 0.00000000e+00, 1.10945515e-02],\n",
       "       [0.00000000e+00, 0.00000000e+00, 0.00000000e+00, 0.00000000e+00],\n",
       "       [0.00000000e+00, 0.00000000e+00, 1.23015381e-02, 0.00000000e+00],\n",
       "       [1.13499714e-02, 1.13499714e-02, 0.00000000e+00, 8.30116123e-03],\n",
       "       [1.12378104e-02, 1.12378104e-02, 1.25777023e-02, 0.00000000e+00],\n",
       "       [0.00000000e+00, 0.00000000e+00, 0.00000000e+00, 0.00000000e+00],\n",
       "       [8.41558818e-03, 8.41558818e-03, 2.26685386e-02, 4.10518982e-03],\n",
       "       [0.00000000e+00, 0.00000000e+00, 0.00000000e+00, 4.17171232e-03],\n",
       "       [0.00000000e+00, 0.00000000e+00, 0.00000000e+00, 2.62654983e-02],\n",
       "       [0.00000000e+00, 0.00000000e+00, 0.00000000e+00, 4.04435792e-04],\n",
       "       [1.14588160e-02, 1.14588160e-02, 4.55748886e-02, 7.73449102e-03],\n",
       "       [1.40843028e-02, 1.40843028e-02, 2.21957341e-02, 5.29831462e-03],\n",
       "       [2.37355530e-02, 2.37355530e-02, 0.00000000e+00, 7.77516654e-03],\n",
       "       [2.03060750e-02, 2.03060750e-02, 1.21306414e-02, 1.45642869e-02],\n",
       "       [1.33552365e-02, 1.33552365e-02, 1.15883686e-02, 9.26085748e-03],\n",
       "       [3.06951571e-02, 3.06951571e-02, 0.00000000e+00, 0.00000000e+00],\n",
       "       [0.00000000e+00, 0.00000000e+00, 0.00000000e+00, 4.74931207e-03],\n",
       "       [7.27386074e-03, 7.27386074e-03, 0.00000000e+00, 4.88454141e-02],\n",
       "       [0.00000000e+00, 0.00000000e+00, 3.76047157e-02, 0.00000000e+00],\n",
       "       [1.23770442e-02, 1.23770442e-02, 7.07281567e-03, 3.82710877e-03],\n",
       "       [3.07956641e-03, 3.07956641e-03, 3.21163982e-02, 1.82864722e-02],\n",
       "       [0.00000000e+00, 0.00000000e+00, 0.00000000e+00, 0.00000000e+00],\n",
       "       [0.00000000e+00, 0.00000000e+00, 0.00000000e+00, 1.44596701e-03],\n",
       "       [0.00000000e+00, 0.00000000e+00, 0.00000000e+00, 0.00000000e+00],\n",
       "       [1.00143747e-02, 1.00143747e-02, 1.53664895e-03, 7.57066719e-03],\n",
       "       [1.79614814e-03, 1.79614814e-03, 2.50792014e-03, 0.00000000e+00],\n",
       "       [2.83778794e-02, 2.83778794e-02, 0.00000000e+00, 9.96145234e-03],\n",
       "       [0.00000000e+00, 0.00000000e+00, 0.00000000e+00, 0.00000000e+00],\n",
       "       [6.07691519e-03, 6.07691519e-03, 0.00000000e+00, 9.04917833e-04],\n",
       "       [3.52216349e-03, 3.52216349e-03, 3.98138426e-02, 1.83182620e-02],\n",
       "       [2.27070996e-03, 2.27070996e-03, 0.00000000e+00, 8.85614101e-03],\n",
       "       [1.84825454e-02, 1.84825454e-02, 0.00000000e+00, 0.00000000e+00],\n",
       "       [0.00000000e+00, 0.00000000e+00, 5.43992929e-02, 0.00000000e+00],\n",
       "       [4.10116836e-03, 4.10116836e-03, 0.00000000e+00, 0.00000000e+00],\n",
       "       [4.22383193e-03, 4.22383193e-03, 0.00000000e+00, 8.36051535e-03],\n",
       "       [2.06764732e-02, 2.06764732e-02, 1.59145577e-03, 7.56420987e-03],\n",
       "       [7.26427231e-03, 7.26427231e-03, 3.74249630e-02, 9.32413153e-04],\n",
       "       [7.13441288e-03, 7.13441288e-03, 2.10014321e-02, 0.00000000e+00],\n",
       "       [1.52642420e-02, 1.52642420e-02, 0.00000000e+00, 2.36962433e-03],\n",
       "       [8.08688719e-03, 8.08688719e-03, 5.93453180e-03, 1.98236573e-02],\n",
       "       [0.00000000e+00, 0.00000000e+00, 0.00000000e+00, 0.00000000e+00],\n",
       "       [9.08537023e-03, 9.08537023e-03, 2.15060394e-02, 1.07564162e-02],\n",
       "       [1.89845404e-03, 1.89845404e-03, 3.02050617e-02, 6.57875882e-03],\n",
       "       [0.00000000e+00, 0.00000000e+00, 0.00000000e+00, 0.00000000e+00],\n",
       "       [1.50529705e-02, 1.50529705e-02, 0.00000000e+00, 7.54646491e-03],\n",
       "       [1.46347675e-02, 1.46347675e-02, 3.23500335e-02, 0.00000000e+00],\n",
       "       [1.67927649e-02, 1.67927649e-02, 9.29240230e-03, 1.34271272e-02],\n",
       "       [1.41681852e-02, 1.41681852e-02, 1.00134742e-02, 1.16337538e-02],\n",
       "       [1.04840221e-02, 1.04840221e-02, 0.00000000e+00, 4.30248794e-04],\n",
       "       [0.00000000e+00, 0.00000000e+00, 0.00000000e+00, 0.00000000e+00],\n",
       "       [0.00000000e+00, 0.00000000e+00, 0.00000000e+00, 0.00000000e+00],\n",
       "       [4.39273156e-02, 4.39273156e-02, 8.40973482e-03, 1.02080475e-03],\n",
       "       [0.00000000e+00, 0.00000000e+00, 3.47799622e-02, 6.06341660e-03],\n",
       "       [1.67474127e-03, 1.67474127e-03, 9.68184043e-03, 8.31393991e-03],\n",
       "       [0.00000000e+00, 0.00000000e+00, 4.59913164e-03, 0.00000000e+00],\n",
       "       [3.39091523e-03, 3.39091523e-03, 0.00000000e+00, 6.36939378e-03],\n",
       "       [3.75296958e-02, 3.75296958e-02, 5.15485089e-03, 0.00000000e+00],\n",
       "       [0.00000000e+00, 0.00000000e+00, 0.00000000e+00, 3.83232767e-03],\n",
       "       [7.23664602e-03, 7.23664602e-03, 4.16367594e-03, 6.45469595e-03],\n",
       "       [2.67701186e-02, 2.67701186e-02, 0.00000000e+00, 6.49526203e-03],\n",
       "       [0.00000000e+00, 0.00000000e+00, 6.18699519e-03, 0.00000000e+00],\n",
       "       [3.18532088e-03, 3.18532088e-03, 0.00000000e+00, 0.00000000e+00],\n",
       "       [4.18439187e-04, 4.18439187e-04, 0.00000000e+00, 5.05559379e-03],\n",
       "       [0.00000000e+00, 0.00000000e+00, 0.00000000e+00, 7.18531292e-03],\n",
       "       [5.06388163e-03, 5.06388163e-03, 5.40980734e-02, 5.41131943e-03],\n",
       "       [1.35614341e-02, 1.35614341e-02, 0.00000000e+00, 0.00000000e+00],\n",
       "       [0.00000000e+00, 0.00000000e+00, 1.99518539e-02, 4.49840492e-03],\n",
       "       [9.89935827e-03, 9.89935827e-03, 1.06855761e-02, 1.50287179e-02],\n",
       "       [8.56028753e-04, 8.56028753e-04, 2.27094907e-02, 0.00000000e+00],\n",
       "       [3.75556871e-02, 3.75556871e-02, 1.11296838e-02, 0.00000000e+00],\n",
       "       [0.00000000e+00, 0.00000000e+00, 9.90851782e-03, 1.56055074e-02],\n",
       "       [0.00000000e+00, 0.00000000e+00, 0.00000000e+00, 0.00000000e+00],\n",
       "       [1.39591219e-02, 1.39591219e-02, 0.00000000e+00, 0.00000000e+00],\n",
       "       [1.98502070e-03, 1.98502070e-03, 0.00000000e+00, 0.00000000e+00],\n",
       "       [0.00000000e+00, 0.00000000e+00, 4.51735081e-03, 0.00000000e+00],\n",
       "       [0.00000000e+00, 0.00000000e+00, 0.00000000e+00, 0.00000000e+00],\n",
       "       [5.60368644e-03, 5.60368644e-03, 0.00000000e+00, 0.00000000e+00],\n",
       "       [4.52377368e-03, 4.52377368e-03, 6.40824288e-02, 8.11546482e-03],\n",
       "       [0.00000000e+00, 0.00000000e+00, 0.00000000e+00, 7.53098846e-08],\n",
       "       [8.55952129e-03, 8.55952129e-03, 4.16338854e-02, 0.00000000e+00],\n",
       "       [9.45427734e-03, 9.45427734e-03, 1.60044562e-02, 4.78567649e-03],\n",
       "       [1.32881654e-02, 1.32881654e-02, 3.15893181e-02, 4.95500723e-03],\n",
       "       [1.64214894e-02, 1.64214894e-02, 1.46640735e-02, 6.35735644e-03],\n",
       "       [0.00000000e+00, 0.00000000e+00, 1.72291294e-01, 0.00000000e+00],\n",
       "       [2.83432135e-04, 2.83432135e-04, 2.06618141e-02, 6.10457826e-03],\n",
       "       [0.00000000e+00, 0.00000000e+00, 0.00000000e+00, 0.00000000e+00],\n",
       "       [5.26288291e-03, 5.26288291e-03, 0.00000000e+00, 0.00000000e+00],\n",
       "       [0.00000000e+00, 0.00000000e+00, 0.00000000e+00, 0.00000000e+00],\n",
       "       [1.16898147e-02, 1.16898147e-02, 8.59306660e-03, 2.50653038e-03],\n",
       "       [2.99827401e-02, 2.99827401e-02, 0.00000000e+00, 1.12775294e-02],\n",
       "       [8.01076517e-02, 8.01076517e-02, 0.00000000e+00, 0.00000000e+00],\n",
       "       [3.03310528e-03, 3.03310528e-03, 7.01723918e-02, 3.52859055e-03],\n",
       "       [1.32750319e-02, 1.32750319e-02, 0.00000000e+00, 5.03195263e-03],\n",
       "       [1.28228758e-02, 1.28228758e-02, 2.47790175e-03, 9.33600182e-04],\n",
       "       [0.00000000e+00, 0.00000000e+00, 0.00000000e+00, 0.00000000e+00],\n",
       "       [1.56829376e-02, 1.56829376e-02, 0.00000000e+00, 0.00000000e+00],\n",
       "       [0.00000000e+00, 0.00000000e+00, 0.00000000e+00, 0.00000000e+00]],\n",
       "      dtype=float32)"
      ]
     },
     "execution_count": 57,
     "metadata": {},
     "output_type": "execute_result"
    }
   ],
   "source": [
    "datax"
   ]
  },
  {
   "cell_type": "code",
   "execution_count": 58,
   "metadata": {},
   "outputs": [],
   "source": [
    "colors = [\"red\"] * 30\n",
    "colors.extend([\"green\"] * 30)\n",
    "colors.extend([\"blue\"] * 30)\n",
    "colors.extend([\"yellow\"] * 30)\n",
    "\n"
   ]
  },
  {
   "cell_type": "code",
   "execution_count": 59,
   "metadata": {},
   "outputs": [
    {
     "name": "stderr",
     "output_type": "stream",
     "text": [
      "C:\\ProgramData\\Anaconda3\\lib\\site-packages\\mpl_toolkits\\mplot3d\\art3d.py:794: FutureWarning: elementwise comparison failed; returning scalar instead, but in the future will perform elementwise comparison\n",
      "  if zdir == 'x':\n",
      "C:\\ProgramData\\Anaconda3\\lib\\site-packages\\mpl_toolkits\\mplot3d\\art3d.py:796: FutureWarning: elementwise comparison failed; returning scalar instead, but in the future will perform elementwise comparison\n",
      "  elif zdir == 'y':\n"
     ]
    },
    {
     "data": {
      "image/png": "[encoded data removed]",
      "text/plain": [
       "<Figure size 432x288 with 1 Axes>"
      ]
     },
     "metadata": {
      "needs_background": "light"
     },
     "output_type": "display_data"
    }
   ],
   "source": [
    "fig = plt.figure()\n",
    "ax = Axes3D(fig)\n",
    "ax.scatter(datax[:, 0], datax[:, 1], datax[:, 2], datax[:, 3], c=colors)\n",
    "labels = range(150)"
   ]
  },
  {
   "cell_type": "code",
   "execution_count": 63,
   "metadata": {},
   "outputs": [
    {
     "name": "stdout",
     "output_type": "stream",
     "text": [
      "Warning: passing the data in the constructor is deprecated.\n"
     ]
    }
   ],
   "source": [
    "n_rows, n_columns = 100, 160\n",
    "som = somoclu.Somoclu(n_columns, n_rows, data=datax)\n"
   ]
  },
  {
   "cell_type": "code",
   "execution_count": 64,
   "metadata": {},
   "outputs": [
    {
     "ename": "NameError",
     "evalue": "name 'wrap_train' is not defined",
     "output_type": "error",
     "traceback": [
      "\u001b[1;31m---------------------------------------------------------------------------\u001b[0m",
      "\u001b[1;31mNameError\u001b[0m                                 Traceback (most recent call last)",
      "\u001b[1;32m<timed eval>\u001b[0m in \u001b[0;36m<module>\u001b[1;34m\u001b[0m\n",
      "\u001b[1;32mC:\\ProgramData\\Anaconda3\\lib\\site-packages\\somoclu\\train.py\u001b[0m in \u001b[0;36mtrain\u001b[1;34m(self, data, epochs, radius0, radiusN, radiuscooling, scale0, scaleN, scalecooling)\u001b[0m\n\u001b[0;32m    220\u001b[0m         \u001b[0mself\u001b[0m\u001b[1;33m.\u001b[0m\u001b[0mumatrix\u001b[0m\u001b[1;33m.\u001b[0m\u001b[0mshape\u001b[0m \u001b[1;33m=\u001b[0m \u001b[1;33m(\u001b[0m\u001b[0mself\u001b[0m\u001b[1;33m.\u001b[0m\u001b[0m_n_rows\u001b[0m \u001b[1;33m*\u001b[0m \u001b[0mself\u001b[0m\u001b[1;33m.\u001b[0m\u001b[0m_n_columns\u001b[0m\u001b[1;33m,\u001b[0m \u001b[1;33m)\u001b[0m\u001b[1;33m\u001b[0m\u001b[1;33m\u001b[0m\u001b[0m\n\u001b[0;32m    221\u001b[0m         \u001b[0mself\u001b[0m\u001b[1;33m.\u001b[0m\u001b[0mbmus\u001b[0m\u001b[1;33m.\u001b[0m\u001b[0mshape\u001b[0m \u001b[1;33m=\u001b[0m \u001b[1;33m(\u001b[0m\u001b[0mself\u001b[0m\u001b[1;33m.\u001b[0m\u001b[0mn_vectors\u001b[0m \u001b[1;33m*\u001b[0m \u001b[1;36m2\u001b[0m\u001b[1;33m,\u001b[0m \u001b[1;33m)\u001b[0m\u001b[1;33m\u001b[0m\u001b[1;33m\u001b[0m\u001b[0m\n\u001b[1;32m--> 222\u001b[1;33m         wrap_train(np.ravel(self._data), epochs, self._n_columns, self._n_rows,\n\u001b[0m\u001b[0;32m    223\u001b[0m                    \u001b[0mself\u001b[0m\u001b[1;33m.\u001b[0m\u001b[0mn_dim\u001b[0m\u001b[1;33m,\u001b[0m \u001b[0mself\u001b[0m\u001b[1;33m.\u001b[0m\u001b[0mn_vectors\u001b[0m\u001b[1;33m,\u001b[0m \u001b[0mradius0\u001b[0m\u001b[1;33m,\u001b[0m \u001b[0mradiusN\u001b[0m\u001b[1;33m,\u001b[0m\u001b[1;33m\u001b[0m\u001b[1;33m\u001b[0m\u001b[0m\n\u001b[0;32m    224\u001b[0m                    \u001b[0mradiuscooling\u001b[0m\u001b[1;33m,\u001b[0m \u001b[0mscale0\u001b[0m\u001b[1;33m,\u001b[0m \u001b[0mscaleN\u001b[0m\u001b[1;33m,\u001b[0m \u001b[0mscalecooling\u001b[0m\u001b[1;33m,\u001b[0m\u001b[1;33m\u001b[0m\u001b[1;33m\u001b[0m\u001b[0m\n",
      "\u001b[1;31mNameError\u001b[0m: name 'wrap_train' is not defined"
     ]
    }
   ],
   "source": [
    "%time som.train()"
   ]
  },
  {
   "cell_type": "code",
   "execution_count": 62,
   "metadata": {},
   "outputs": [
    {
     "ename": "IndexError",
     "evalue": "too many indices for array",
     "output_type": "error",
     "traceback": [
      "\u001b[1;31m---------------------------------------------------------------------------\u001b[0m",
      "\u001b[1;31mIndexError\u001b[0m                                Traceback (most recent call last)",
      "\u001b[1;32m<ipython-input-62-d7b2cdd236a2>\u001b[0m in \u001b[0;36m<module>\u001b[1;34m\u001b[0m\n\u001b[1;32m----> 1\u001b[1;33m \u001b[0msom\u001b[0m\u001b[1;33m.\u001b[0m\u001b[0mview_umatrix\u001b[0m\u001b[1;33m(\u001b[0m\u001b[0mbestmatches\u001b[0m\u001b[1;33m=\u001b[0m\u001b[1;32mTrue\u001b[0m\u001b[1;33m,\u001b[0m \u001b[0mbestmatchcolors\u001b[0m\u001b[1;33m=\u001b[0m\u001b[0mcolors\u001b[0m\u001b[1;33m,\u001b[0m \u001b[0mlabels\u001b[0m\u001b[1;33m=\u001b[0m\u001b[0mlabels\u001b[0m\u001b[1;33m)\u001b[0m\u001b[1;33m\u001b[0m\u001b[1;33m\u001b[0m\u001b[0m\n\u001b[0m",
      "\u001b[1;32mC:\\ProgramData\\Anaconda3\\lib\\site-packages\\somoclu\\train.py\u001b[0m in \u001b[0;36mview_umatrix\u001b[1;34m(self, figsize, colormap, colorbar, bestmatches, bestmatchcolors, labels, zoom, filename)\u001b[0m\n\u001b[0;32m    325\u001b[0m         return self._view_matrix(self.umatrix, figsize, colormap, colorbar,\n\u001b[0;32m    326\u001b[0m                                  \u001b[0mbestmatches\u001b[0m\u001b[1;33m,\u001b[0m \u001b[0mbestmatchcolors\u001b[0m\u001b[1;33m,\u001b[0m \u001b[0mlabels\u001b[0m\u001b[1;33m,\u001b[0m \u001b[0mzoom\u001b[0m\u001b[1;33m,\u001b[0m\u001b[1;33m\u001b[0m\u001b[1;33m\u001b[0m\u001b[0m\n\u001b[1;32m--> 327\u001b[1;33m                                  filename)\n\u001b[0m\u001b[0;32m    328\u001b[0m \u001b[1;33m\u001b[0m\u001b[0m\n\u001b[0;32m    329\u001b[0m     def view_activation_map(self, data_vector=None, data_index=None,\n",
      "\u001b[1;32mC:\\ProgramData\\Anaconda3\\lib\\site-packages\\somoclu\\train.py\u001b[0m in \u001b[0;36m_view_matrix\u001b[1;34m(self, matrix, figsize, colormap, colorbar, bestmatches, bestmatchcolors, labels, zoom, filename)\u001b[0m\n\u001b[0;32m    416\u001b[0m                 \u001b[0mbmu_coords\u001b[0m\u001b[1;33m[\u001b[0m\u001b[0mi\u001b[0m\u001b[1;33m]\u001b[0m \u001b[1;33m=\u001b[0m \u001b[0moffsets\u001b[0m\u001b[1;33m[\u001b[0m\u001b[0mcol\u001b[0m \u001b[1;33m*\u001b[0m \u001b[0mzoom\u001b[0m\u001b[1;33m[\u001b[0m\u001b[1;36m1\u001b[0m\u001b[1;33m]\u001b[0m\u001b[1;33m[\u001b[0m\u001b[1;36m1\u001b[0m\u001b[1;33m]\u001b[0m \u001b[1;33m+\u001b[0m \u001b[0mrow\u001b[0m\u001b[1;33m]\u001b[0m\u001b[1;33m\u001b[0m\u001b[1;33m\u001b[0m\u001b[0m\n\u001b[0;32m    417\u001b[0m         \u001b[1;32melse\u001b[0m\u001b[1;33m:\u001b[0m\u001b[1;33m\u001b[0m\u001b[1;33m\u001b[0m\u001b[0m\n\u001b[1;32m--> 418\u001b[1;33m             plt.imshow(matrix[zoom[0][0]:zoom[0][1], zoom[1][0]:zoom[1][1]],\n\u001b[0m\u001b[0;32m    419\u001b[0m                        aspect='auto', interpolation='bicubic')\n\u001b[0;32m    420\u001b[0m             \u001b[0mplt\u001b[0m\u001b[1;33m.\u001b[0m\u001b[0mset_cmap\u001b[0m\u001b[1;33m(\u001b[0m\u001b[0mcolormap\u001b[0m\u001b[1;33m)\u001b[0m\u001b[1;33m\u001b[0m\u001b[1;33m\u001b[0m\u001b[0m\n",
      "\u001b[1;31mIndexError\u001b[0m: too many indices for array"
     ]
    },
    {
     "data": {
      "text/plain": [
       "<Figure size 576x360 with 0 Axes>"
      ]
     },
     "metadata": {},
     "output_type": "display_data"
    }
   ],
   "source": [
    "som.view_umatrix(bestmatches=True, bestmatchcolors=colors, labels=labels)"
   ]
  },
  {
   "cell_type": "code",
   "execution_count": null,
   "metadata": {},
   "outputs": [],
   "source": [
    "colors = [\"red\"] * 50\n",
    "colors.extend([\"green\"] * 50)\n",
    "colors.extend([\"blue\"] * 50)\n",
    "colors.extend([\"yellow\"] * 50)\n",
    "fig = plt.figure()\n",
    "ax = Axes3D(fig)\n",
    "ax.scatter(data[:, 0], data[:, 1], data[:, 2], data[:, 3], c=colors)\n",
    "labels = range(150)\n",
    "som.view_umatrix(bestmatches=True, bestmatchcolors=colors, labels=labels)"
   ]
  },
  {
   "cell_type": "code",
   "execution_count": null,
   "metadata": {},
   "outputs": [],
   "source": []
  }
 ],
 "metadata": {
  "kernelspec": {
   "display_name": "Python 3",
   "language": "python",
   "name": "python3"
  },
  "language_info": {
   "codemirror_mode": {
    "name": "ipython",
    "version": 3
   },
   "file_extension": ".py",
   "mimetype": "text/x-python",
   "name": "python",
   "nbconvert_exporter": "python",
   "pygments_lexer": "ipython3",
   "version": "3.7.3"
  }
 },
 "nbformat": 4,
 "nbformat_minor": 2
}
